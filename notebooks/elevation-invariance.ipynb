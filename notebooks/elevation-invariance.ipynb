{
 "cells": [
  {
   "cell_type": "code",
   "execution_count": 2,
   "metadata": {},
   "outputs": [],
   "source": [
    "import xarray as xr\n",
    "import os\n",
    "import glob\n",
    "import re\n",
    "from tqdm import tqdm\n",
    "\n",
    "from plot_cluster_data import collect_data_for_all_clusters"
   ]
  },
  {
   "cell_type": "code",
   "execution_count": null,
   "metadata": {},
   "outputs": [],
   "source": [
    "# data_path = \"/work/FAC/FGSE/IDYST/tbeucler/downscaling/fquareng/data\"\n",
    "data_path = \"/Users/fquareng/data/\"\n",
    "dem_path = \"dem_squares\"\n",
    "target_path = \"8h-PS-RELHUM_2M-T_2M_cropped_gridded_clustered_threshold\"\n",
    "source_path = \"8h-PS-RELHUM_2M-T_2M_cropped_gridded_clustered_threshold_blurred\"\n",
    "figures_directory = f\"/Users/fquareng/phd/AdaptationSandbox/figures/feature_transformation\"\n"
   ]
  },
  {
   "cell_type": "code",
   "execution_count": 6,
   "metadata": {},
   "outputs": [
    {
     "name": "stdout",
     "output_type": "stream",
     "text": [
      "Cluster: 0\n",
      "Both lists contain files with the same pattern.\n",
      "Cluster: 1\n",
      "Both lists contain files with the same pattern.\n",
      "Cluster: 2\n",
      "Both lists contain files with the same pattern.\n",
      "Cluster: 3\n",
      "Both lists contain files with the same pattern.\n",
      "Cluster: 4\n",
      "Both lists contain files with the same pattern.\n",
      "Cluster: 5\n",
      "Both lists contain files with the same pattern.\n",
      "Cluster: 6\n",
      "Both lists contain files with the same pattern.\n",
      "Cluster: 7\n",
      "Both lists contain files with the same pattern.\n"
     ]
    }
   ],
   "source": [
    "# Check if source and target are correctly clustered\n",
    "\n",
    "def has_same_pattern(list1, list2, pattern):\n",
    "    for file1 in list1:\n",
    "        if not re.search(pattern, file1) or not any(re.search(pattern, f) for f in list2):\n",
    "            return False\n",
    "    for file2 in list2:\n",
    "        if not re.search(pattern, file2) or not any(re.search(pattern, f) for f in list1):\n",
    "            return False\n",
    "    return True\n",
    "\n",
    "for cluster_id in range(8):\n",
    "    print(\"Cluster:\", cluster_id)\n",
    "    list1 = glob.glob(os.path.join(os.path.join(data_path, source_path, f\"cluster_{cluster_id}\"), \"*.nz\"))\n",
    "    list2 = glob.glob(os.path.join(os.path.join(data_path, target_path, f\"cluster_{cluster_id}\"), \"*.nz\"))\n",
    "    pattern = r\"lffd\\d{8}\\d{6}\" # Replace pattern with the appropriate regular expression to match your filenames\n",
    "\n",
    "    if has_same_pattern(list1, list2, pattern):\n",
    "        print(\"Both lists contain files with the same pattern.\")\n",
    "    else:\n",
    "        print(\"The lists do not contain the same pattern.\")"
   ]
  },
  {
   "cell_type": "code",
   "execution_count": null,
   "metadata": {},
   "outputs": [
    {
     "name": "stderr",
     "output_type": "stream",
     "text": [
      "100%|████████████████████████████████████| 26821/26821 [04:28<00:00, 99.74it/s]\n",
      "100%|███████████████████████████████████| 31372/31372 [05:09<00:00, 101.34it/s]\n",
      "100%|████████████████████████████████████| 46894/46894 [08:31<00:00, 91.61it/s]\n",
      "100%|████████████████████████████████████| 49094/49094 [08:51<00:00, 92.45it/s]\n",
      "100%|████████████████████████████████████| 51443/51443 [09:14<00:00, 92.76it/s]\n",
      "100%|████████████████████████████████████| 53643/53643 [09:34<00:00, 93.32it/s]\n",
      "100%|████████████████████████████████████| 75379/75379 [13:19<00:00, 94.30it/s]\n",
      "100%|████████████████████████████████████| 79930/79930 [14:26<00:00, 92.22it/s]\n",
      "100%|██████████| 8/8 [00:00<00:00, 135847.90it/s]\n",
      "100%|████████████████████████████████████| 26681/26681 [05:11<00:00, 85.66it/s]\n",
      "100%|████████████████████████████████████| 31512/31512 [06:06<00:00, 86.10it/s]\n",
      "100%|████████████████████████████████████| 46708/46708 [08:58<00:00, 86.79it/s]\n",
      "100%|████████████████████████████████████| 48966/48966 [09:21<00:00, 87.19it/s]\n",
      "100%|████████████████████████████████████| 51539/51539 [09:51<00:00, 87.07it/s]\n",
      "100%|████████████████████████████████████| 53797/53797 [10:15<00:00, 87.37it/s]\n",
      "100%|████████████████████████████████████| 75271/75271 [14:38<00:00, 85.67it/s]\n",
      "100%|████████████████████████████████████| 80102/80102 [15:47<00:00, 84.53it/s]\n",
      "100%|██████████| 8/8 [00:00<00:00, 307838.83it/s]\n"
     ]
    }
   ],
   "source": [
    "# Collect data for all clusters\n",
    "n_clusters = 8\n",
    "source_cluster_data = collect_data_for_all_clusters(\n",
    "    os.path.join(data_path, source_path), os.path.join(data_path, dem_path), n_clusters)\n"
   ]
  },
  {
   "cell_type": "code",
   "execution_count": 8,
   "metadata": {},
   "outputs": [
    {
     "name": "stderr",
     "output_type": "stream",
     "text": [
      "100%|████████████████████████████████████| 26681/26681 [05:08<00:00, 86.50it/s]\n",
      "100%|████████████████████████████████████| 31512/31512 [06:03<00:00, 86.80it/s]\n",
      "100%|████████████████████████████████████| 46708/46708 [08:58<00:00, 86.80it/s]\n",
      "100%|████████████████████████████████████| 48966/48966 [09:21<00:00, 87.16it/s]\n",
      "100%|████████████████████████████████████| 51539/51539 [09:50<00:00, 87.25it/s]\n",
      "100%|████████████████████████████████████| 53797/53797 [10:16<00:00, 87.21it/s]\n",
      "100%|████████████████████████████████████| 75271/75271 [14:05<00:00, 89.00it/s]\n",
      "100%|████████████████████████████████████| 80102/80102 [15:13<00:00, 87.65it/s]\n",
      "100%|██████████| 8/8 [00:00<00:00, 258111.02it/s]\n"
     ]
    }
   ],
   "source": [
    "target_cluster_data = collect_data_for_all_clusters(\n",
    "    os.path.join(data_path, target_path), os.path.join(data_path, dem_path), n_clusters)\n"
   ]
  },
  {
   "cell_type": "code",
   "execution_count": null,
   "metadata": {},
   "outputs": [],
   "source": [
    "# Implement physical transformations\n",
    "\n",
    "## Q: Is there a difference between source and target? If yes, where does it come from exactly?\n",
    "## Q: Can I achieve an elevation-invariant space?\n",
    "## Q: Are all clusters the same? What happens if I plot the whole dataset?\n",
    "\n",
    "# Plot all data (variable vs elevation) with and without transformation\n"
   ]
  },
  {
   "cell_type": "code",
   "execution_count": 1,
   "metadata": {},
   "outputs": [],
   "source": [
    "import numpy as np\n",
    "\n",
    "train_loss = np.array([2.54921938e+03, 2.69361474e+01, 2.09526893e+01, 1.48503077e+01,\n",
    "       1.09017474e+01, 6.68671466e+00, 4.05568557e+00, 2.85000921e+00,\n",
    "       2.37099372e+00, 2.09628182e+00, 1.06688034e+00, 1.25146239e+00,\n",
    "       1.24244507e+00, 1.19540497e+00, 1.15588480e+00, 1.14452622e+00,\n",
    "       1.10904794e+00, 1.08837534e+00, 1.07484986e+00, 1.03752378e+00,\n",
    "       8.21292400e-01, 8.61858600e-01, 8.51800846e-01, 8.35904411e-01,\n",
    "       8.35206322e-01, 8.15846032e-01, 8.20358784e-01, 8.05435947e-01,\n",
    "       8.08660401e-01, 7.94989524e-01, 7.31615237e-01, 7.37305015e-01,\n",
    "       7.35080080e-01, 7.33501906e-01, 7.28739921e-01, 7.25652548e-01,\n",
    "       7.20121634e-01, 7.18351489e-01, 7.12903141e-01, 7.08811942e-01])\n",
    "\n",
    "val_loss = np.array([12.97382623,  5.80351894,  4.01703484, 19.90071351,  4.42849891,\n",
    "        2.28872724,  3.26814637,  1.82312134,  4.85628626,  2.8827937 ,\n",
    "        1.93212351,  1.40093489,  1.27326665,  1.52567619,  1.2250455 ,\n",
    "        1.21150685,  1.67290459,  1.05514826,  1.05639884,  1.70193887,\n",
    "        0.9859895 ,  1.03247461,  1.00521633,  1.06681084,  1.41519967,\n",
    "        0.96480494,  1.05054887,  0.91880294,  0.90741858,  0.90011547,\n",
    "        0.93934442,  0.91451759,  0.91923748,  0.89892434,  0.87291276,\n",
    "        0.88052362,  0.89330383,  0.8734847 ,  0.88413148,  0.89839915])"
   ]
  },
  {
   "cell_type": "code",
   "execution_count": 7,
   "metadata": {},
   "outputs": [
    {
     "data": {
      "image/png": "[encoded data removed]",
      "text/plain": [
       "<Figure size 640x480 with 1 Axes>"
      ]
     },
     "metadata": {},
     "output_type": "display_data"
    }
   ],
   "source": [
    "import matplotlib.pyplot as plt\n",
    "\n",
    "plt.plot(train_loss)\n",
    "plt.plot(val_loss)\n",
    "plt.yscale(\"log\")"
   ]
  },
  {
   "cell_type": "code",
   "execution_count": null,
   "metadata": {},
   "outputs": [],
   "source": []
  }
 ],
 "metadata": {
  "kernelspec": {
   "display_name": "dl-cpu",
   "language": "python",
   "name": "python3"
  },
  "language_info": {
   "codemirror_mode": {
    "name": "ipython",
    "version": 3
   },
   "file_extension": ".py",
   "mimetype": "text/x-python",
   "name": "python",
   "nbconvert_exporter": "python",
   "pygments_lexer": "ipython3",
   "version": "3.13.1"
  }
 },
 "nbformat": 4,
 "nbformat_minor": 2
}
