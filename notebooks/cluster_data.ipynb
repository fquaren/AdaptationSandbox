{
 "cells": [
  {
   "cell_type": "code",
   "execution_count": null,
   "metadata": {},
   "outputs": [],
   "source": [
    "import os\n",
    "import xarray as xr\n",
    "import shutil\n",
    "\n",
    "def classify_cluster(elevation, temperature, humidity):\n",
    "    \"\"\"Classify the file into one of 8 clusters based on threshold conditions.\"\"\"\n",
    "    cluster = 0\n",
    "    if elevation > threshold_elev:\n",
    "        cluster |= 1  # Set bit 1\n",
    "    if temperature > threshold_temp:\n",
    "        cluster |= 2  # Set bit 2\n",
    "    if humidity > threshold_hum:\n",
    "        cluster |= 4  # Set bit 3\n",
    "    return cluster\n",
    "\n",
    "def process_netcdf_files(input_dir, output_dir, thresholds):\n",
    "    global threshold_elev, threshold_temp, threshold_hum\n",
    "    threshold_elev, threshold_temp, threshold_hum = thresholds\n",
    "    \n",
    "    # Ensure cluster directories exist\n",
    "    for i in range(8):\n",
    "        os.makedirs(os.path.join(output_dir, f'cluster_{i}'), exist_ok=True)\n",
    "    \n",
    "    # List all NetCDF files\n",
    "    files = [f for f in os.listdir(input_dir) if f.endswith(\".nz\")]\n",
    "\n",
    "    \n",
    "    \n",
    "    for file in files:\n",
    "        file_path = os.path.join(input_dir, file)\n",
    "\n",
    "        # # Extract elevation from the DEM file\n",
    "        dem_path = file_path.split()\n",
    "        # elevation = xr.open_dataset(dem_path)\n",
    "        \n",
    "        # Open the NetCDF file and extract the variables\n",
    "        with xr.open_dataset(file_path) as ds:\n",
    "            temperature = ds['T_2M'].values.mean()\n",
    "            humidity = ds['RELHUM_2M'].values.mean()\n",
    "            elevation = ds['HSURF'].values.mean()\n",
    "        # Classify file into a cluster\n",
    "        cluster = classify_cluster(elevation, temperature, humidity)\n",
    "        \n",
    "        # Move file to the corresponding cluster folder\n",
    "        dest_path = os.path.join(output_dir, f'cluster_{cluster}', file)\n",
    "        shutil.move(file_path, dest_path)\n",
    "        print(f\"Moved {file} to cluster_{cluster}\")\n",
    "\n",
    "# Example usage\n",
    "input_directory = \"~/data/1h_2D_sel_cropped_blurred_x8_gridded\"\n",
    "output_directory = \"~/data/1h_2D_sel_cropped_blurred_x8_clustered\"\n",
    "thresh_values = (800, 290, 50)  # Example thresholds for elevation, temperature, humidity\n",
    "process_netcdf_files(input_directory, output_directory, thresh_values)\n"
   ]
  }
 ],
 "metadata": {
  "kernelspec": {
   "display_name": "dl-cpu",
   "language": "python",
   "name": "python3"
  },
  "language_info": {
   "name": "python",
   "version": "3.13.1"
  }
 },
 "nbformat": 4,
 "nbformat_minor": 2
}
